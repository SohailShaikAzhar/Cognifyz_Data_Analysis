{
 "cells": [
  {
   "cell_type": "markdown",
   "metadata": {},
   "source": [
    "# Task: Top Cuisines"
   ]
  },
  {
   "cell_type": "markdown",
   "metadata": {},
   "source": [
    "### Determine the top three most common cuisines in the dataset."
   ]
  },
  {
   "cell_type": "code",
   "execution_count": 8,
   "metadata": {},
   "outputs": [],
   "source": [
    "import pandas as pd   #pandas for data manipulation\n",
    "\n",
    "df = pd.read_csv(\"Dataset.csv\")  #reads the data from csv into data frame\n",
    "cuisines = df[\"Cuisines\"]  #retriving cuisines column from "
   ]
  },
  {
   "cell_type": "code",
   "execution_count": 9,
   "metadata": {},
   "outputs": [
    {
     "name": "stdout",
     "output_type": "stream",
     "text": [
      "0          French, Japanese, Desserts\n",
      "1                            Japanese\n",
      "2    Seafood, Asian, Filipino, Indian\n",
      "3                     Japanese, Sushi\n",
      "4                    Japanese, Korean\n",
      "Name: Cuisines, dtype: object\n"
     ]
    }
   ],
   "source": [
    "print(cuisines.head()) #printing first 5 cuisines list"
   ]
  },
  {
   "cell_type": "code",
   "execution_count": 10,
   "metadata": {},
   "outputs": [
    {
     "name": "stdout",
     "output_type": "stream",
     "text": [
      "0             [French, Japanese, Desserts]\n",
      "1                               [Japanese]\n",
      "2       [Seafood, Asian, Filipino, Indian]\n",
      "3                        [Japanese, Sushi]\n",
      "4                       [Japanese, Korean]\n",
      "                       ...                \n",
      "9546                             [Turkish]\n",
      "9547     [World Cuisine, Patisserie, Cafe]\n",
      "9548              [Italian, World Cuisine]\n",
      "9549                     [Restaurant Cafe]\n",
      "9550                                [Cafe]\n",
      "Name: Cuisines, Length: 9551, dtype: object\n"
     ]
    }
   ],
   "source": [
    "all_cuisines = cuisines.str.split(\", \")  #splitting cuisines with comma (,)\n",
    "print(all_cuisines)  #printing all cuisines"
   ]
  },
  {
   "cell_type": "code",
   "execution_count": 11,
   "metadata": {},
   "outputs": [
    {
     "name": "stdout",
     "output_type": "stream",
     "text": [
      "North Indian    3960\n",
      "Chinese         2735\n",
      "Fast Food       1986\n",
      "Name: Cuisines, dtype: int64\n"
     ]
    }
   ],
   "source": [
    "cuisines_count = all_cuisines.explode().value_counts()  #countung number of repeation of cuisines by splitting them\n",
    "print(cuisines_count.head(3))   #printing the top 3 cuisines"
   ]
  },
  {
   "cell_type": "markdown",
   "metadata": {},
   "source": [
    "### Calculate the percentage of restaurants that serve each of the top cuisines."
   ]
  },
  {
   "cell_type": "code",
   "execution_count": 12,
   "metadata": {},
   "outputs": [
    {
     "name": "stdout",
     "output_type": "stream",
     "text": [
      "9551\n"
     ]
    }
   ],
   "source": [
    "total_restaurants = len(df)  # number of restaurants\n",
    "print(total_restaurants)   # printig them"
   ]
  },
  {
   "cell_type": "code",
   "execution_count": 13,
   "metadata": {},
   "outputs": [
    {
     "name": "stdout",
     "output_type": "stream",
     "text": [
      "North Indian    41.461627\n",
      "Chinese         28.635745\n",
      "Fast Food       20.793634\n",
      "Mughlai         10.417757\n",
      "Italian          7.999162\n",
      "Bakery           7.800230\n",
      "Continental      7.705999\n",
      "Cafe             7.360486\n",
      "Desserts         6.836980\n",
      "South Indian     6.658989\n",
      "Name: Cuisines, dtype: float64\n"
     ]
    }
   ],
   "source": [
    "cuisine_percentage = (cuisines_count/total_restaurants)*100  #calculating the top cuisine percentage\n",
    "print(cuisine_percentage.head(10))  #printing the top 10 cuisines"
   ]
  }
 ],
 "metadata": {
  "kernelspec": {
   "display_name": "Python 3",
   "language": "python",
   "name": "python3"
  },
  "language_info": {
   "codemirror_mode": {
    "name": "ipython",
    "version": 3
   },
   "file_extension": ".py",
   "mimetype": "text/x-python",
   "name": "python",
   "nbconvert_exporter": "python",
   "pygments_lexer": "ipython3",
   "version": "3.7.9"
  }
 },
 "nbformat": 4,
 "nbformat_minor": 2
}
