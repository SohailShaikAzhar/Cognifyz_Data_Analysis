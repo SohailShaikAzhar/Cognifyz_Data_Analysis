{
 "cells": [
  {
   "cell_type": "markdown",
   "metadata": {},
   "source": [
    "# Task: City Analysis"
   ]
  },
  {
   "cell_type": "markdown",
   "metadata": {},
   "source": [
    "### Identify the city with the highest number of restaurants in the dataset."
   ]
  },
  {
   "cell_type": "code",
   "execution_count": 1,
   "metadata": {},
   "outputs": [
    {
     "name": "stdout",
     "output_type": "stream",
     "text": [
      "0         Makati City\n",
      "1         Makati City\n",
      "2    Mandaluyong City\n",
      "3    Mandaluyong City\n",
      "4    Mandaluyong City\n",
      "Name: City, dtype: object\n"
     ]
    }
   ],
   "source": [
    "import pandas as pd  # pandas for data manipulation\n",
    "\n",
    "df = pd.read_csv(\"Dataset.csv\")  #data set loading from csv to data frame\n",
    "cities = df[\"City\"]   #taking city column in the data frame\n",
    "print(cities.head())  #printing top 5 cities "
   ]
  },
  {
   "cell_type": "code",
   "execution_count": 2,
   "metadata": {},
   "outputs": [
    {
     "name": "stdout",
     "output_type": "stream",
     "text": [
      "New Delhi    5473\n",
      "Name: City, dtype: int64\n"
     ]
    }
   ],
   "source": [
    "total_cities = cities.value_counts() #calculate number of repeatation of cities \n",
    "print(total_cities.head(1))  #highest restaurant in a city"
   ]
  },
  {
   "cell_type": "markdown",
   "metadata": {},
   "source": [
    "### Calculate the average rating for restaurants in each city."
   ]
  },
  {
   "cell_type": "code",
   "execution_count": 3,
   "metadata": {},
   "outputs": [
    {
     "name": "stdout",
     "output_type": "stream",
     "text": [
      "141\n"
     ]
    }
   ],
   "source": [
    "print(len(total_cities)) # Total number of cities"
   ]
  },
  {
   "cell_type": "code",
   "execution_count": 4,
   "metadata": {},
   "outputs": [],
   "source": [
    "df[\"Aggregate rating\"] = pd.to_numeric(df[\"Aggregate rating\"], errors=\"coerce\")"
   ]
  },
  {
   "cell_type": "code",
   "execution_count": 6,
   "metadata": {},
   "outputs": [
    {
     "name": "stdout",
     "output_type": "stream",
     "text": [
      "City\n",
      "Abu Dhabi          4.300000\n",
      "Agra               3.965000\n",
      "Ahmedabad          4.161905\n",
      "Albany             3.555000\n",
      "Allahabad          3.395000\n",
      "                     ...   \n",
      "Weirton            3.900000\n",
      "Wellington City    4.250000\n",
      "Winchester Bay     3.200000\n",
      "Yorkton            3.300000\n",
      "��stanbul          4.292857\n",
      "Name: Aggregate rating, Length: 141, dtype: float64\n"
     ]
    }
   ],
   "source": [
    "city_avg_rating = df.groupby(\"City\")[\"Aggregate rating\"].mean()\n",
    "print(city_avg_rating)"
   ]
  },
  {
   "cell_type": "markdown",
   "metadata": {},
   "source": [
    "### Determine the city with the highest average rating."
   ]
  },
  {
   "cell_type": "code",
   "execution_count": 7,
   "metadata": {},
   "outputs": [
    {
     "name": "stdout",
     "output_type": "stream",
     "text": [
      "Inner City - 4.9\n"
     ]
    }
   ],
   "source": [
    "Highest_rated_city = city_avg_rating.sort_values(ascending=False).index[0]\n",
    "Highest_rated_value = city_avg_rating.max()\n",
    "print(Highest_rated_city,\"-\" ,Highest_rated_value)"
   ]
  }
 ],
 "metadata": {
  "kernelspec": {
   "display_name": "Python 3",
   "language": "python",
   "name": "python3"
  },
  "language_info": {
   "codemirror_mode": {
    "name": "ipython",
    "version": 3
   },
   "file_extension": ".py",
   "mimetype": "text/x-python",
   "name": "python",
   "nbconvert_exporter": "python",
   "pygments_lexer": "ipython3",
   "version": "3.7.9"
  }
 },
 "nbformat": 4,
 "nbformat_minor": 2
}
