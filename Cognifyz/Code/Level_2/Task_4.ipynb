{
 "cells": [
  {
   "cell_type": "markdown",
   "metadata": {},
   "source": [
    "# Task: Restaurant Chains"
   ]
  },
  {
   "cell_type": "markdown",
   "metadata": {},
   "source": [
    "###  Identify if there are any restaurant chains present in the dataset."
   ]
  },
  {
   "cell_type": "code",
   "execution_count": 1,
   "metadata": {},
   "outputs": [
    {
     "name": "stdout",
     "output_type": "stream",
     "text": [
      "Cafe Coffee Day     83\n",
      "Domino's Pizza      79\n",
      "Subway              63\n",
      "Green Chick Chop    51\n",
      "McDonald's          48\n",
      "Keventers           34\n",
      "Pizza Hut           30\n",
      "Giani               29\n",
      "Baskin Robbins      28\n",
      "Barbeque Nation     26\n",
      "Name: Restaurant Name, dtype: int64\n"
     ]
    }
   ],
   "source": [
    "import pandas as pd\n",
    "\n",
    "df = pd.read_csv(\"Dataset.csv\")\n",
    "\n",
    "restaurant_counts = df['Restaurant Name'].value_counts()\n",
    "\n",
    "restaurant_chains = restaurant_counts[restaurant_counts > 1]\n",
    "\n",
    "print(restaurant_chains.head(10)) \n"
   ]
  },
  {
   "cell_type": "markdown",
   "metadata": {},
   "source": [
    "### Analyze the ratings and popularity of different restaurant chains.\n"
   ]
  },
  {
   "cell_type": "code",
   "execution_count": 25,
   "metadata": {},
   "outputs": [
    {
     "name": "stdout",
     "output_type": "stream",
     "text": [
      "               Restaurant Name  avg_rating  total_votes\n",
      "62             Barbeque Nation    4.353846        28142\n",
      "7    AB's - Absolute Barbecues    4.825000        13400\n",
      "79                   Big Chill    4.475000        10853\n",
      "239                 Farzi Cafe    4.366667        10098\n",
      "692                   Truffles    3.950000         9682\n",
      "163                    Chili's    4.580000         8156\n",
      "338               Joey's Pizza    4.250000         7807\n",
      "83             Big Yellow Door    4.266667         7511\n",
      "568            Saravana Bhavan    4.133333         7238\n",
      "614                  Starbucks    3.805556         7139\n"
     ]
    }
   ],
   "source": [
    "chains = restaurant_counts[restaurant_counts > 1].index\n",
    "\n",
    "chain_df = df[df['Restaurant Name'].isin(chains)]\n",
    "\n",
    "chain_analysis = chain_df.groupby('Restaurant Name').agg(avg_rating=('Aggregate rating', 'mean'),total_votes=('Votes', 'sum')).reset_index()\n",
    "\n",
    "chain_analysis = chain_analysis.sort_values(by='total_votes', ascending=False)\n",
    "\n",
    "print(chain_analysis.head(10))"
   ]
  }
 ],
 "metadata": {
  "kernelspec": {
   "display_name": "Python 3",
   "language": "python",
   "name": "python3"
  },
  "language_info": {
   "codemirror_mode": {
    "name": "ipython",
    "version": 3
   },
   "file_extension": ".py",
   "mimetype": "text/x-python",
   "name": "python",
   "nbconvert_exporter": "python",
   "pygments_lexer": "ipython3",
   "version": "3.7.9"
  }
 },
 "nbformat": 4,
 "nbformat_minor": 2
}
