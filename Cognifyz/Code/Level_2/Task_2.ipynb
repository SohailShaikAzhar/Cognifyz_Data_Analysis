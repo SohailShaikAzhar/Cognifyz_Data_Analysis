{
 "cells": [
  {
   "cell_type": "markdown",
   "metadata": {},
   "source": [
    "# Task: Cuisine Combination"
   ]
  },
  {
   "cell_type": "markdown",
   "metadata": {},
   "source": [
    "### Identify the most common combinations of cuisines in the dataset."
   ]
  },
  {
   "cell_type": "code",
   "execution_count": 8,
   "metadata": {},
   "outputs": [
    {
     "name": "stdout",
     "output_type": "stream",
     "text": [
      "North Indian, Chinese             511\n",
      "North Indian, Mughlai             334\n",
      "North Indian, Mughlai, Chinese    197\n",
      "Bakery, Desserts                  170\n",
      "Pizza, Fast Food                  131\n",
      "Chinese, Fast Food                118\n",
      "Mithai, Street Food               116\n",
      "Bakery, Fast Food                 108\n",
      "Chinese, North Indian             105\n",
      "Ice Cream, Desserts                83\n",
      "Name: Cuisines, dtype: int64\n"
     ]
    }
   ],
   "source": [
    "df = df.dropna(subset=['Cuisines'])\n",
    "\n",
    "cuisine_combinations = df[df['Cuisines'].str.contains(',')]['Cuisines'].value_counts()\n",
    "\n",
    "print(cuisine_combinations.head(10))\n"
   ]
  },
  {
   "cell_type": "markdown",
   "metadata": {},
   "source": [
    "###  Determine if certain cuisine combinations tend to have higher ratings."
   ]
  },
  {
   "cell_type": "code",
   "execution_count": 11,
   "metadata": {},
   "outputs": [
    {
     "name": "stdout",
     "output_type": "stream",
     "text": [
      "Cuisines\n",
      "Italian, Bakery, Continental    4.9\n",
      "European, Asian, Indian         4.9\n",
      "Sunda, Indonesian               4.9\n",
      "European, Contemporary          4.9\n",
      "Burger, Bar Food, Steak         4.9\n",
      "Hawaiian, Seafood               4.9\n",
      "American, Burger, Grill         4.9\n",
      "Continental, Indian             4.9\n",
      "American, Caribbean, Seafood    4.9\n",
      "American, BBQ, Sandwich         4.9\n",
      "Name: Aggregate rating, dtype: float64\n"
     ]
    }
   ],
   "source": [
    "# df = df.dropna(subset=['Cuisines', 'Aggregate rating'])\n",
    "\n",
    "# df['Aggregate rating'] = pd.to_numeric(df['Aggregate rating'], errors='coerce')\n",
    "\n",
    "df_combinations = df[df['Cuisines'].str.contains(',')]\n",
    "\n",
    "cuisine_ratings = df_combinations.groupby('Cuisines')['Aggregate rating'].mean().sort_values(ascending=False)\n",
    "\n",
    "print(cuisine_ratings.head(10))"
   ]
  },
  {
   "cell_type": "markdown",
   "metadata": {},
   "source": []
  }
 ],
 "metadata": {
  "kernelspec": {
   "display_name": "Python 3",
   "language": "python",
   "name": "python3"
  },
  "language_info": {
   "codemirror_mode": {
    "name": "ipython",
    "version": 3
   },
   "file_extension": ".py",
   "mimetype": "text/x-python",
   "name": "python",
   "nbconvert_exporter": "python",
   "pygments_lexer": "ipython3",
   "version": "3.7.9"
  }
 },
 "nbformat": 4,
 "nbformat_minor": 2
}
